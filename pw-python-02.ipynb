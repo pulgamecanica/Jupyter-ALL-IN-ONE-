{
 "cells": [
  {
   "cell_type": "markdown",
   "metadata": {},
   "source": [
    "# Exercícios de tipos compostos\n",
    "\n",
    "Consulte os slides se tiver dúvidas. Estes contêm toda a matéria necessária para realizar estes exercícios.\n",
    "\n",
    "\n",
    "# 1 Listas de números\n",
    "Considere a seguinte lista (execute a linha de código seguinte para que a lista fique definida no Jupyter)"
   ]
  },
  {
   "cell_type": "code",
   "execution_count": 6,
   "metadata": {},
   "outputs": [],
   "source": [
    "lista = [1, 4, 6, 22, 4, 7, 13, 12, 2, 3, 5]"
   ]
  },
  {
   "cell_type": "markdown",
   "metadata": {},
   "source": [
    "Lembre-se que existe:\n",
    "* uma indexação que vai da esquerda para a direita e começa no 0, \n",
    "* uma indexação que vai da direita para a esquerda e começa no -1  \n",
    "\n",
    "\n",
    "\n",
    "1.1 imprima o numero que está na posição de indice 2"
   ]
  },
  {
   "cell_type": "code",
   "execution_count": 8,
   "metadata": {},
   "outputs": [
    {
     "data": {
      "text/plain": [
       "6"
      ]
     },
     "execution_count": 8,
     "metadata": {},
     "output_type": "execute_result"
    }
   ],
   "source": [
    "lista[2]"
   ]
  },
  {
   "cell_type": "markdown",
   "metadata": {},
   "source": [
    "1.2 imprima o numero que está na penúltima posição da lista."
   ]
  },
  {
   "cell_type": "code",
   "execution_count": 9,
   "metadata": {},
   "outputs": [
    {
     "data": {
      "text/plain": [
       "3"
      ]
     },
     "execution_count": 9,
     "metadata": {},
     "output_type": "execute_result"
    }
   ],
   "source": [
    "lista[-2]"
   ]
  },
  {
   "cell_type": "markdown",
   "metadata": {},
   "source": [
    "1.3 imprima todos os números desta lista separados por espaços (use o atributo end). Lembre-se que com um ciclo for pode iterar diretamente pelos elementos da lista."
   ]
  },
  {
   "cell_type": "code",
   "execution_count": 12,
   "metadata": {},
   "outputs": [
    {
     "name": "stdout",
     "output_type": "stream",
     "text": [
      "1 4 6 22 4 7 13 12 2 3 5 "
     ]
    }
   ],
   "source": [
    "lista = [1, 4, 6, 22, 4, 7, 13, 12, 2, 3, 5]\n",
    "for item in lista: print(item, end=\" \")\n"
   ]
  },
  {
   "cell_type": "markdown",
   "metadata": {},
   "source": [
    "1.4. Faça um programa que some todos os números pares desta lista e crie a lista pares, dos elementos pares da lista. imprima o resultado e a lista pares.\n",
    "\n",
    "Resultado esperado:\n",
    "```\n",
    "A soma dos numeros pares da lista é 50\n",
    "Lista dos númeors pares: [2, 4, 6, 22, 4, 12]\n",
    "```"
   ]
  },
  {
   "cell_type": "code",
   "execution_count": 25,
   "metadata": {},
   "outputs": [
    {
     "name": "stdout",
     "output_type": "stream",
     "text": [
      "A soma dos numeros pares da lista é 50\n",
      "Lista dos númeors pares:  [2, 4, 4, 6, 12, 22]\n"
     ]
    }
   ],
   "source": [
    "sumResult = 0\n",
    "newList = []\n",
    "for item in lista:\n",
    "    if item%2 == 0:\n",
    "        sumResult += item\n",
    "        newList.append(item)\n",
    "print(\"A soma dos numeros pares da lista é\", sumResult)\n",
    "print(\"Lista dos númeors pares: \", sorted(newList))"
   ]
  },
  {
   "cell_type": "markdown",
   "metadata": {},
   "source": [
    "1.5 Faça um programa que imprime o índice da posição e o valor de cada elemento da lista. Utilize a função enumerate.\n",
    "\n",
    "resultado esperado:\n",
    "```\n",
    "Na posição de indice 0 está o 1\n",
    "Na posição de indice 1 está o 4\n",
    "...\n",
    "```"
   ]
  },
  {
   "cell_type": "code",
   "execution_count": 27,
   "metadata": {},
   "outputs": [
    {
     "name": "stdout",
     "output_type": "stream",
     "text": [
      "Na posição de indice 0 está o 1\n",
      "Na posição de indice 1 está o 4\n",
      "Na posição de indice 2 está o 6\n",
      "Na posição de indice 3 está o 22\n",
      "Na posição de indice 4 está o 4\n",
      "Na posição de indice 5 está o 7\n",
      "Na posição de indice 6 está o 13\n",
      "Na posição de indice 7 está o 12\n",
      "Na posição de indice 8 está o 2\n",
      "Na posição de indice 9 está o 3\n",
      "Na posição de indice 10 está o 5\n"
     ]
    }
   ],
   "source": [
    "for count, item in enumerate(lista): print(f\"Na posição de indice {count} está o {item}\")"
   ]
  },
  {
   "cell_type": "markdown",
   "metadata": {},
   "source": [
    "1.6 Crie uma lista com os números de 1 a 10 usando uma compreensão"
   ]
  },
  {
   "cell_type": "code",
   "execution_count": 39,
   "metadata": {},
   "outputs": [
    {
     "name": "stdout",
     "output_type": "stream",
     "text": [
      "[0, 1, 2, 3, 4, 5, 6, 7, 8, 9, 10]\n"
     ]
    }
   ],
   "source": [
    "array1 = [i for i in range(11)]\n",
    "print(array1)"
   ]
  },
  {
   "cell_type": "markdown",
   "metadata": {},
   "source": [
    "1.7 Cria uma lista com os números pares de 100 a 140, inclusivé,  usando uma compreensão"
   ]
  },
  {
   "cell_type": "code",
   "execution_count": 44,
   "metadata": {},
   "outputs": [
    {
     "name": "stdout",
     "output_type": "stream",
     "text": [
      "[100, 102, 104, 106, 108, 110, 112, 114, 116, 118, 120, 122, 124, 126, 128, 130, 132, 134, 136, 138, 140]\n"
     ]
    }
   ],
   "source": [
    "array2 = [i for i in range(100, 142) if i%2 == 0]\n",
    "print(array2)"
   ]
  },
  {
   "cell_type": "markdown",
   "metadata": {},
   "source": [
    "# 2 Listas de strings\n",
    "\n",
    "Considere a seguinte lista: \n",
    "\n",
    "`nomes = [\"Maria\", \"Manuel\", \"Luis\", \"Augusta\", \"Zé\", \"Tolentino\", \"Ana\"]`\n",
    "\n",
    "\n",
    "\n",
    "2.1 Recorrendo a um ciclo e a formated strings, itere pelos vários nomes e imprima para cada nome uma frase do tipo:\n",
    "\n",
    "`Bom dia, Maria!`"
   ]
  },
  {
   "cell_type": "code",
   "execution_count": 47,
   "metadata": {},
   "outputs": [
    {
     "name": "stdout",
     "output_type": "stream",
     "text": [
      "Bom dia Maria!\n",
      "Bom dia Manuel!\n",
      "Bom dia Luis!\n",
      "Bom dia Augusta!\n",
      "Bom dia Zé!\n",
      "Bom dia Tolentino!\n",
      "Bom dia Ana!\n"
     ]
    }
   ],
   "source": [
    "nomes = [\"Maria\", \"Manuel\", \"Luis\", \"Augusta\", \"Zé\", \"Tolentino\", \"Ana\"]\n",
    "for nome in nomes:\n",
    "    print(f\"Bom dia {nome}!\")"
   ]
  },
  {
   "cell_type": "markdown",
   "metadata": {},
   "source": [
    "2.2 Crie uma lista ordenada alfabeticamente com o método sort e imprima-a.\n",
    "\n",
    "Resultado esperado: `['Ana', 'Augusta', 'Luis', 'Manuel', 'Maria', 'Tolentino', 'Zé']`"
   ]
  },
  {
   "cell_type": "code",
   "execution_count": 54,
   "metadata": {},
   "outputs": [
    {
     "name": "stdout",
     "output_type": "stream",
     "text": [
      "['Ana', 'Augusta', 'Luis', 'Manuel', 'Maria', 'Tolentino', 'Zé']\n"
     ]
    }
   ],
   "source": [
    "nomes.sort()\n",
    "print(nomes)"
   ]
  },
  {
   "cell_type": "markdown",
   "metadata": {},
   "source": [
    "2.3 Crie uma lista ordenada pelo número de carateres, de forma decrescente, e imprima-a. Use um lambda, tal como foi feito na aula.\n",
    "\n",
    "Resultado esperado: `['Tolentino', 'Augusta', 'Manuel', 'Maria', 'Luis', 'Ana', 'Zé']`"
   ]
  },
  {
   "cell_type": "code",
   "execution_count": 18,
   "metadata": {},
   "outputs": [
    {
     "name": "stdout",
     "output_type": "stream",
     "text": [
      "['Tolentino', 'Augusta', 'Manuel', 'Maria', 'Luis', 'Ana', 'Zé']\n"
     ]
    }
   ],
   "source": [
    "nomes.sort(key = lambda name:len(name)*-1)\n",
    "print(nomes)"
   ]
  },
  {
   "cell_type": "markdown",
   "metadata": {},
   "source": [
    "2.4 Crie, com um ciclo for, uma lista com a primeira letra de cada nome.\n",
    "\n",
    "Resultado esperado: `['M', 'M', 'L', 'A', 'Z', 'T', 'A']`"
   ]
  },
  {
   "cell_type": "code",
   "execution_count": 4,
   "metadata": {},
   "outputs": [
    {
     "name": "stdout",
     "output_type": "stream",
     "text": [
      "['M', 'M', 'L', 'A', 'Z', 'T', 'A']\n"
     ]
    }
   ],
   "source": [
    "nomes = [\"Maria\", \"Manuel\", \"Luis\", \"Augusta\", \"Zé\", \"Tolentino\", \"Ana\"]\n",
    "array3 = []\n",
    "for nome in nomes:\n",
    "    array3.append(nome[0])\n",
    "print(array3)"
   ]
  },
  {
   "cell_type": "markdown",
   "metadata": {},
   "source": [
    "2.5 Crie com uma compreensão uma lista que guarda a primeira letra de cada nome."
   ]
  },
  {
   "cell_type": "code",
   "execution_count": 5,
   "metadata": {},
   "outputs": [
    {
     "name": "stdout",
     "output_type": "stream",
     "text": [
      "['M', 'M', 'L', 'A', 'Z', 'T', 'A']\n"
     ]
    }
   ],
   "source": [
    "newArray3 = [nome[0] for nome in nomes]\n",
    "print(newArray3)"
   ]
  },
  {
   "cell_type": "markdown",
   "metadata": {},
   "source": [
    "2.6 Crie a lista `ladies` que guarda os nomes terminados em \"a\".\n",
    "\n",
    "\n",
    "Resultado esperado: `['Maria', 'Augusta', 'Ana']`"
   ]
  },
  {
   "cell_type": "code",
   "execution_count": 68,
   "metadata": {},
   "outputs": [
    {
     "name": "stdout",
     "output_type": "stream",
     "text": [
      "['Maria', 'Augusta', 'Ana']\n"
     ]
    }
   ],
   "source": [
    "ladies1 = []\n",
    "for nome in nomes:\n",
    "    if(nome[-1] == 'a'):\n",
    "        ladies1.append(nome)\n",
    "print(ladies1)"
   ]
  },
  {
   "cell_type": "markdown",
   "metadata": {},
   "source": [
    "2.7 Crie a lista `ladies` que guarda os nomes terminados em \"a\", usando uma compreensão"
   ]
  },
  {
   "cell_type": "code",
   "execution_count": 69,
   "metadata": {},
   "outputs": [
    {
     "name": "stdout",
     "output_type": "stream",
     "text": [
      "['Maria', 'Augusta', 'Ana']\n"
     ]
    }
   ],
   "source": [
    "ladies2 = [nome for nome in nomes if nome[-1] == \"a\"]\n",
    "print(ladies2)"
   ]
  },
  {
   "cell_type": "markdown",
   "metadata": {},
   "source": [
    "# 3 Processamento de listas com strings\n",
    "\n",
    "Considere a seguinte lista de strings:"
   ]
  },
  {
   "cell_type": "code",
   "execution_count": 15,
   "metadata": {},
   "outputs": [],
   "source": [
    "dados = [\n",
    "    \"Pedro Tamen, 1/1/1934\", \n",
    "    \"Almeida Garrett, 4/2/1799\",\n",
    "    \"Camilo Pessanha, 7/9/1867\",\n",
    "    \"Almada Negreiros, 7/5/1893\",\n",
    "    \"Ibn Bassam, 21/11/1058\",\n",
    "    \"Antonio Aleixo, 18/2/1899\",\n",
    "    \"Agustina Bessa-Luís, 15/10/1922\",\n",
    "    \"Ricardo Reis, 19/9/1887\",\n",
    "    \"Mario Sá-Carneiro, 19/5/1890\",\n",
    "    \"Mario Cesariny, 9/9/1923\",\n",
    "    \"Luis Camões, 10/6/1524\",\n",
    "    \"Miguel Torga, 12/8/1907\",\n",
    "    \"Lidia Jorge, 18/10/1946\"\n",
    "    \"Natália Correia, 12/9/1923\",\n",
    "    \"Tolentino Mendonça, 15/12/1965\",\n",
    "    \"Alberto Caeiro, 16/5/1889\",\n",
    "    \"Jose Saramago, 16/11/1922\",\n",
    "    \"Cesario Verde, 25/2/1855\",\n",
    "    \"Luiz Pacheco, 7/5/1925\",\n",
    "    \"Manuel Alegre, 12/5/1936\",\n",
    "    \"Fernando Pessoa, 13/6/1888\",\n",
    "    \"Herberto Helder, 23/11/1930\",\n",
    "    \"Florbela Espanca, 8/12/1894\"\n",
    "]"
   ]
  },
  {
   "cell_type": "markdown",
   "metadata": {},
   "source": [
    "### Relembrando...\n",
    "\n",
    "No processamento de strings, dois métodos são muito úteis, split e find:"
   ]
  },
  {
   "cell_type": "code",
   "execution_count": 24,
   "metadata": {},
   "outputs": [
    {
     "data": {
      "text/plain": [
       "['Pedro Tamen', '1/1/1934']"
      ]
     },
     "execution_count": 24,
     "metadata": {},
     "output_type": "execute_result"
    }
   ],
   "source": [
    " \"Pedro Tamen, 1/1/1934\".split(', ')"
   ]
  },
  {
   "cell_type": "code",
   "execution_count": 25,
   "metadata": {
    "scrolled": false
   },
   "outputs": [
    {
     "data": {
      "text/plain": [
       "'Pedro Tamen'"
      ]
     },
     "execution_count": 25,
     "metadata": {},
     "output_type": "execute_result"
    }
   ],
   "source": [
    " \"Pedro Tamen, 1/1/1934\".split(',')[0]"
   ]
  },
  {
   "cell_type": "code",
   "execution_count": 26,
   "metadata": {},
   "outputs": [
    {
     "data": {
      "text/plain": [
       "'Pedro'"
      ]
     },
     "execution_count": 26,
     "metadata": {},
     "output_type": "execute_result"
    }
   ],
   "source": [
    "nome = \"Pedro Tamen, 1/1/1934\"\n",
    "nome[:nome.find(' ')] # retorna o índice da primeira ocorrência de ' '"
   ]
  },
  {
   "cell_type": "code",
   "execution_count": 11,
   "metadata": {},
   "outputs": [
    {
     "data": {
      "text/plain": [
       "'Pedro Tamen'"
      ]
     },
     "execution_count": 11,
     "metadata": {},
     "output_type": "execute_result"
    }
   ],
   "source": [
    "nome = \"Pedro Tamen, 1/1/1934\"\n",
    "nome[:nome.find(',')]"
   ]
  },
  {
   "cell_type": "code",
   "execution_count": 13,
   "metadata": {},
   "outputs": [
    {
     "data": {
      "text/plain": [
       "'Tamen'"
      ]
     },
     "execution_count": 13,
     "metadata": {},
     "output_type": "execute_result"
    }
   ],
   "source": [
    "nome = \"Pedro Tamen, 1/1/1934\"\n",
    "nome.split()[1][:-1]"
   ]
  },
  {
   "cell_type": "markdown",
   "metadata": {},
   "source": [
    "As compreensões também são formas simples de transformar uma lista. Por exemplo, criemos a lista com a primeira letra de cada pessoa: "
   ]
  },
  {
   "cell_type": "code",
   "execution_count": 29,
   "metadata": {},
   "outputs": [
    {
     "name": "stdout",
     "output_type": "stream",
     "text": [
      "['P', 'A', 'C', 'A', 'I', 'A', 'A', 'R', 'M', 'M', 'L', 'M', 'L', 'T', 'A', 'J', 'C', 'L', 'M', 'F', 'H', 'F']\n"
     ]
    }
   ],
   "source": [
    "letras = [info[0] for info in dados]\n",
    "print(letras)"
   ]
  },
  {
   "cell_type": "markdown",
   "metadata": {},
   "source": [
    "Criemos uma lista de anos de nascimento de cada pessoa:"
   ]
  },
  {
   "cell_type": "code",
   "execution_count": 30,
   "metadata": {},
   "outputs": [
    {
     "name": "stdout",
     "output_type": "stream",
     "text": [
      "[1934, 1799, 1867, 1893, 1058, 1899, 1922, 1887, 1890, 1923, 1524, 1907, 1923, 1965, 1889, 1922, 1855, 1925, 1936, 1888, 1930, 1894]\n"
     ]
    }
   ],
   "source": [
    "anos = [int(info.split('/')[-1]) for info in dados]\n",
    "print(anos)"
   ]
  },
  {
   "cell_type": "markdown",
   "metadata": {},
   "source": [
    "Criemos um dicionário de anos, onde a chave é a primeira letra do nome e o valor o ano nascimento:"
   ]
  },
  {
   "cell_type": "code",
   "execution_count": 16,
   "metadata": {},
   "outputs": [
    {
     "name": "stdout",
     "output_type": "stream",
     "text": [
      "{'P': 1934, 'A': 1889, 'C': 1855, 'I': 1058, 'R': 1887, 'M': 1936, 'L': 1925, 'T': 1965, 'J': 1922, 'F': 1894, 'H': 1930}\n"
     ]
    }
   ],
   "source": [
    "aniversarios = {info[0]:int(info[-4:]) for info in dados}\n",
    "print(aniversarios)"
   ]
  },
  {
   "cell_type": "markdown",
   "metadata": {},
   "source": [
    "Transformando o dicionario anterior numa lista de tuplos é muito simples com o construtor list, não esquecendo de usar o método items() que especifica que queremos transformar os items, pares (chave e valor):"
   ]
  },
  {
   "cell_type": "code",
   "execution_count": 32,
   "metadata": {},
   "outputs": [
    {
     "name": "stdout",
     "output_type": "stream",
     "text": [
      "[('P', 1934), ('A', 1889), ('C', 1855), ('I', 1058), ('R', 1887), ('M', 1936), ('L', 1925), ('T', 1965), ('J', 1922), ('F', 1894), ('H', 1930)]\n"
     ]
    }
   ],
   "source": [
    "listaAniversarios = list(aniversarios.items())\n",
    "print(listaAniversarios)"
   ]
  },
  {
   "cell_type": "markdown",
   "metadata": {},
   "source": [
    "Podemos ordenar a lista pelo segundo argumento do tuplo da seguinte forma:"
   ]
  },
  {
   "cell_type": "code",
   "execution_count": 36,
   "metadata": {},
   "outputs": [
    {
     "name": "stdout",
     "output_type": "stream",
     "text": [
      "[('I', 1058), ('C', 1855), ('R', 1887), ('A', 1889), ('F', 1894), ('J', 1922), ('L', 1925), ('H', 1930), ('P', 1934), ('M', 1936), ('T', 1965)]\n"
     ]
    }
   ],
   "source": [
    "listaAniversarios.sort(key = lambda tuplo:tuplo[1])\n",
    "print(listaAniversarios)"
   ]
  },
  {
   "cell_type": "markdown",
   "metadata": {},
   "source": [
    "### Exercicios \n",
    "Considere a seguinte lista de strings:"
   ]
  },
  {
   "cell_type": "code",
   "execution_count": 19,
   "metadata": {},
   "outputs": [],
   "source": [
    "dados = [\n",
    "    \"Pedro Tamen, 1/1/1934\", \n",
    "    \"Almeida Garrett, 4/2/1799\",\n",
    "    \"Camilo Pessanha, 7/9/1867\",\n",
    "    \"Almada Negreiros, 7/5/1893\",\n",
    "    \"Ibn Bassam, 21/11/1058\",\n",
    "    \"Antonio Aleixo, 18/2/1899\",\n",
    "    \"Agustina Bessa-Luís, 15/10/1922\",\n",
    "    \"Ricardo Reis, 19/9/1887\",\n",
    "    \"Mario Sá-Carneiro, 19/5/1890\",\n",
    "    \"Mario Cesariny, 9/9/1923\",\n",
    "    \"Luis Camões, 10/6/1524\",\n",
    "    \"Miguel Torga, 12/8/1907\",\n",
    "    \"Lidia Jorge, 18/10/1946\"\n",
    "    \"Natália Correia, 12/9/1923\",\n",
    "    \"Tolentino Mendonça, 15/12/1965\",\n",
    "    \"Alberto Caeiro, 16/5/1889\",\n",
    "    \"Jose Saramago, 16/11/1922\",\n",
    "    \"Cesario Verde, 25/2/1855\",\n",
    "    \"Luiz Pacheco, 7/5/1925\",\n",
    "    \"Manuel Alegre, 12/5/1936\",\n",
    "    \"Fernando Pessoa, 13/6/1888\",\n",
    "    \"Herberto Helder, 23/11/1930\",\n",
    "    \"Florbela Espanca, 8/12/1894\"\n",
    "]"
   ]
  },
  {
   "cell_type": "markdown",
   "metadata": {},
   "source": [
    "3.1 Crie, com um ciclo for, uma lista de strings, onde cada string tem o nome e apelido de cada pessoa. Utilize por exemplo o método split.\n",
    "\n",
    "   * Exemplo de excerto da lista: `nomes = [\"Pedro Tamen\", \"Almeida Garrett\", ...]` "
   ]
  },
  {
   "cell_type": "code",
   "execution_count": 24,
   "metadata": {},
   "outputs": [
    {
     "name": "stdout",
     "output_type": "stream",
     "text": [
      "['Pedro Tamen', 'Almeida Garrett', 'Camilo Pessanha', 'Almada Negreiros', 'Ibn Bassam', 'Antonio Aleixo', 'Agustina Bessa-Luís', 'Ricardo Reis', 'Mario Sá-Carneiro', 'Mario Cesariny', 'Luis Camões', 'Miguel Torga', 'Lidia Jorge', 'Tolentino Mendonça', 'Alberto Caeiro', 'Jose Saramago', 'Cesario Verde', 'Luiz Pacheco', 'Manuel Alegre', 'Fernando Pessoa', 'Herberto Helder', 'Florbela Espanca']\n"
     ]
    }
   ],
   "source": [
    "nomes = list()\n",
    "for nome in dados:\n",
    "    nomes.append(f\"{nome.split()[0]} {nome.split()[1][:-1]}\")\n",
    "print(nomes)"
   ]
  },
  {
   "cell_type": "markdown",
   "metadata": {},
   "source": [
    "3.2 Crie uma lista de strings, onde cada string tem a primeira letra (abreviatura) do nome e o apelido de cada pessoa. Tende depois utilizar uma compreensão.\n",
    "\n",
    "   * Exemplo de excerto da lista:  `nomes = [\"P.Tamen\", \"A.Garrett\", ...]` "
   ]
  },
  {
   "cell_type": "code",
   "execution_count": 26,
   "metadata": {},
   "outputs": [
    {
     "name": "stdout",
     "output_type": "stream",
     "text": [
      "['P.Tamen', 'A.Garrett', 'C.Pessanha', 'A.Negreiros', 'I.Bassam', 'A.Aleixo', 'A.Bessa-Luís', 'R.Reis', 'M.Sá-Carneiro', 'M.Cesariny', 'L.Camões', 'M.Torga', 'L.Jorge', 'T.Mendonça', 'A.Caeiro', 'J.Saramago', 'C.Verde', 'L.Pacheco', 'M.Alegre', 'F.Pessoa', 'H.Helder', 'F.Espanca']\n"
     ]
    }
   ],
   "source": [
    "nomes = list()\n",
    "for nome in dados:\n",
    "    nomes.append(f\"{nome.split()[0][0]}.{nome.split()[1][:-1]}\")\n",
    "print(nomes)"
   ]
  },
  {
   "cell_type": "code",
   "execution_count": 72,
   "metadata": {},
   "outputs": [
    {
     "name": "stdout",
     "output_type": "stream",
     "text": [
      "['P.Tamen', 'A.Garrett', 'C.Pessanha', 'A.Negreiros', 'I.Bassam', 'A.Aleixo', 'A.Bessa-Luís', 'R.Reis', 'M.Sá-Carneiro', 'M.Cesariny', 'L.Camões', 'M.Torga', 'L.Jorge', 'T.Mendonça', 'A.Caeiro', 'J.Saramago', 'C.Verde', 'L.Pacheco', 'M.Alegre', 'F.Pessoa', 'H.Helder', 'F.Espanca']\n"
     ]
    }
   ],
   "source": [
    "nomes = [f\"{nome.split()[0][0]}.{nome.split()[1][:-1]}\" for nome in dados]\n",
    "print(nomes)"
   ]
  },
  {
   "cell_type": "markdown",
   "metadata": {},
   "source": [
    "3.3 Ordene a lista pelo apelido\n",
    "\n",
    "Resultado esperado: `['M.Alegre', 'A.Aleixo', 'I.Bassam', 'A.Bessa-Luís', ...`"
   ]
  },
  {
   "cell_type": "code",
   "execution_count": 73,
   "metadata": {},
   "outputs": [
    {
     "name": "stdout",
     "output_type": "stream",
     "text": [
      "['M.Alegre', 'A.Aleixo', 'I.Bassam', 'A.Bessa-Luís', 'A.Caeiro', 'L.Camões', 'M.Cesariny', 'F.Espanca', 'A.Garrett', 'H.Helder', 'L.Jorge', 'T.Mendonça', 'A.Negreiros', 'L.Pacheco', 'C.Pessanha', 'F.Pessoa', 'R.Reis', 'J.Saramago', 'M.Sá-Carneiro', 'P.Tamen', 'M.Torga', 'C.Verde']\n"
     ]
    }
   ],
   "source": [
    "nomes.sort(key = lambda nome: nome.split(\".\")[1])\n",
    "print(nomes)"
   ]
  },
  {
   "cell_type": "markdown",
   "metadata": {},
   "source": [
    "3.4 Usando a lista `dados` do exercício anterior, crie um dicionário de anos de nascimento em que a chave é a sigla e apelido, e o valor o ano de nascimento.\n",
    "\n",
    "Exemplo de excerto do dicionário: `anosNascimento = {\"P. Tamen\": 1934, \"A. Garrett\": 1799, ...}`"
   ]
  },
  {
   "cell_type": "code",
   "execution_count": 74,
   "metadata": {},
   "outputs": [
    {
     "name": "stdout",
     "output_type": "stream",
     "text": [
      "{'P.Tamen': 1934, 'A.Garrett': 1799, 'C.Pessanha': 1867, 'A.Negreiros': 1893, 'I.Bassam': 1058, 'A.Aleixo': 1899, 'A.Bessa-Luís': 1922, 'R.Reis': 1887, 'M.Sá-Carneiro': 1890, 'M.Cesariny': 1923, 'L.Camões': 1524, 'M.Torga': 1907, 'L.Jorge': 1923, 'T.Mendonça': 1965, 'A.Caeiro': 1889, 'J.Saramago': 1922, 'C.Verde': 1855, 'L.Pacheco': 1925, 'M.Alegre': 1936, 'F.Pessoa': 1888, 'H.Helder': 1930, 'F.Espanca': 1894}\n"
     ]
    }
   ],
   "source": [
    "nomes = {f\"{nome.split()[0][0]}.{nome.split()[1][:-1]}\": int(nome[-4:]) for nome in dados}\n",
    "print(nomes)"
   ]
  },
  {
   "cell_type": "markdown",
   "metadata": {},
   "source": [
    "3.5 Converta o dicionario numa lista e ordene-a pelo ano de nascimento de forma decrescente. Use o método items() ds dicionários, e o construtor list."
   ]
  },
  {
   "cell_type": "code",
   "execution_count": 98,
   "metadata": {},
   "outputs": [
    {
     "name": "stdout",
     "output_type": "stream",
     "text": [
      "[('T.Mendonça', 1965), ('M.Alegre', 1936), ('P.Tamen', 1934), ('H.Helder', 1930), ('L.Pacheco', 1925), ('M.Cesariny', 1923), ('L.Jorge', 1923), ('A.Bessa-Luís', 1922), ('J.Saramago', 1922), ('M.Torga', 1907), ('A.Aleixo', 1899), ('F.Espanca', 1894), ('A.Negreiros', 1893), ('M.Sá-Carneiro', 1890), ('A.Caeiro', 1889), ('F.Pessoa', 1888), ('R.Reis', 1887), ('C.Pessanha', 1867), ('C.Verde', 1855), ('A.Garrett', 1799), ('L.Camões', 1524), ('I.Bassam', 1058)]\n"
     ]
    }
   ],
   "source": [
    "newArray = list(nomes.items())\n",
    "newArray.sort(key = lambda year : year[1]*-1)\n",
    "print(newArray)"
   ]
  },
  {
   "cell_type": "markdown",
   "metadata": {},
   "source": [
    "# 4. Dicionários\n",
    "Num infantário perguntaram às crianças qual a prenda de Natal que queriam. Resultou na seguinte lista:"
   ]
  },
  {
   "cell_type": "code",
   "execution_count": 105,
   "metadata": {},
   "outputs": [],
   "source": [
    "lista_brinquedos = [\"bola\", \"boneca\", \"carro\", \"boneca\", \"boneca\", \"bola\", \"boneca\", \"carro\", \n",
    "                    \"boneca\", \"boneca\", \"bola\", \"boneca\", \"carro\", \"boneca\", \"boneca\", \n",
    "                    \"bola\", \"boneca\", \"carro\", \"boneca\", \"boneca\", \"bola\", \"carro\", \"bola\", \n",
    "                    \"carro\", \"boneca\", \"boneca\", \"carro\", \"carro\", \"carro\"]"
   ]
  },
  {
   "cell_type": "markdown",
   "metadata": {},
   "source": [
    "4.1 Crie o set de brinquedos pretendidos\n",
    "\n",
    "Resultado esperado: `{'bola', 'boneca', 'carro'}  - o resultado pode estar noutra ordem pois é um set!`"
   ]
  },
  {
   "cell_type": "code",
   "execution_count": 130,
   "metadata": {},
   "outputs": [
    {
     "name": "stdout",
     "output_type": "stream",
     "text": [
      "{'boneca', 'bola', 'carro'}\n"
     ]
    }
   ],
   "source": [
    "setBrin = set(lista_brinquedos) \n",
    "print(setBrin)"
   ]
  },
  {
   "cell_type": "markdown",
   "metadata": {},
   "source": [
    "4.2 Crie um dicionario em que, para cada brinquedo (chave), guarda a quantidade de brinquedos (valor)\n",
    "\n",
    "Resultado esperado: `{'bola': 6, 'boneca': 14, 'carro': 9}`"
   ]
  },
  {
   "cell_type": "code",
   "execution_count": 166,
   "metadata": {},
   "outputs": [
    {
     "name": "stdout",
     "output_type": "stream",
     "text": [
      "{'boneca': 14, 'bola': 6, 'carro': 9}\n"
     ]
    }
   ],
   "source": [
    "dictBrin = {brinquedo: lista_brinquedos.count(brinquedo) for brinquedo in setBrin}\n",
    "print(dictBrin)"
   ]
  },
  {
   "cell_type": "markdown",
   "metadata": {},
   "source": [
    "4.3 Transforme os items do dicionario (lembre-se do método para obter os items...) numa lista de tuplos, com a função list\n",
    "\n",
    "Resultado esperado: `[('bola', 6), ('boneca', 14), ('carro', 9)]`"
   ]
  },
  {
   "cell_type": "code",
   "execution_count": 187,
   "metadata": {},
   "outputs": [
    {
     "name": "stdout",
     "output_type": "stream",
     "text": [
      "[('boneca', 14), ('bola', 6), ('carro', 9)]\n"
     ]
    }
   ],
   "source": [
    "tpBrin = list((dictBrin.items()))\n",
    "print(tpBrin)"
   ]
  },
  {
   "cell_type": "markdown",
   "metadata": {},
   "source": [
    "4.4 Ordene decrescentemente a lista, pela quantidade de brinquedos\n",
    "\n",
    "Resultado esperado: `[('boneca', 14), ('carro', 9), ('bola', 6)]`"
   ]
  },
  {
   "cell_type": "code",
   "execution_count": 194,
   "metadata": {},
   "outputs": [
    {
     "name": "stdout",
     "output_type": "stream",
     "text": [
      "[('boneca', 14), ('carro', 9), ('bola', 6)]\n"
     ]
    }
   ],
   "source": [
    "tpBrin.sort(key = lambda listItem : listItem[-1]*-1)\n",
    "print(tpBrin)"
   ]
  },
  {
   "cell_type": "markdown",
   "metadata": {},
   "source": [
    "# 5 Explorando um dicionário\n",
    "\n",
    "Considere o dicionário brinquedos que tem o inventário dos brinquedos de várias crianças:\n",
    "* Manuel tem um carro e uma bola\n",
    "* Maria tem uma boneca e uma bola\n",
    "* Luís tem uma bola, boneca e carro\n",
    "\n",
    "Exemplo de um dicionário."
   ]
  },
  {
   "cell_type": "code",
   "execution_count": 230,
   "metadata": {},
   "outputs": [],
   "source": [
    "brinquedos = {\n",
    "    \"Manuel\": [\"carro\", \"bola\"],\n",
    "    \"Maria\": [\"boneca\", \"bola\"],\n",
    "    \"Luis\": [\"bola\", \"boneca\", \"carro\"]\n",
    "    }"
   ]
  },
  {
   "cell_type": "markdown",
   "metadata": {},
   "source": [
    "5.1 Considerando que o dicionário segue a estrutura anterior, escreva uma instrução que compute quantas crianças existem no dicionário\n",
    "\n",
    "Resultado esperado: `Existem 3 crianças`"
   ]
  },
  {
   "cell_type": "code",
   "execution_count": 200,
   "metadata": {},
   "outputs": [
    {
     "name": "stdout",
     "output_type": "stream",
     "text": [
      "Existem 3 crianças\n"
     ]
    }
   ],
   "source": [
    "print(f\"Existem {len(brinquedos.keys())} crianças\")"
   ]
  },
  {
   "cell_type": "markdown",
   "metadata": {},
   "source": [
    "5.2 Considerando que o dicionário segue a estrutura anterior, imprima a informação de quantos brinquedos cada criança tem, iterando com um ciclo for pelos items do dicionário, e usando uma string formatada.\n",
    "\n",
    "Resultado esperado:\n",
    "\n",
    "```\n",
    "Manuel: 2 brinquedos \n",
    "Maria: 2 brinquedos \n",
    "Luis: 3 brinquedos\n",
    "```"
   ]
  },
  {
   "cell_type": "code",
   "execution_count": 206,
   "metadata": {},
   "outputs": [
    {
     "name": "stdout",
     "output_type": "stream",
     "text": [
      "Manuel: 2 brinquedos\n",
      "Maria: 2 brinquedos\n",
      "Luis: 3 brinquedos\n"
     ]
    }
   ],
   "source": [
    "for key, value in brinquedos.items():\n",
    "    print(f\"{key}: {len(brinquedos[key])} brinquedos\")"
   ]
  },
  {
   "cell_type": "markdown",
   "metadata": {},
   "source": [
    "5.3 Imaginando que conhece a estrutura mas não o conteúdo do dicionário, verifique a quantidade total de brinquedos existente.\n",
    "\n",
    "Exemplo de resultado: `Existem 7 brinquedos`"
   ]
  },
  {
   "cell_type": "code",
   "execution_count": 213,
   "metadata": {},
   "outputs": [
    {
     "name": "stdout",
     "output_type": "stream",
     "text": [
      "Existem 7 brinquedos\n"
     ]
    }
   ],
   "source": [
    "result = 0\n",
    "for values in brinquedos.values():\n",
    "    result += len(values)\n",
    "print(f\"Existem {result} brinquedos\")"
   ]
  },
  {
   "cell_type": "markdown",
   "metadata": {},
   "source": [
    "5.4 crie um código que verifique se existe alguma criança com um carro"
   ]
  },
  {
   "cell_type": "code",
   "execution_count": 218,
   "metadata": {},
   "outputs": [
    {
     "name": "stdout",
     "output_type": "stream",
     "text": [
      "Existe pelo menos uma criança com um carro.\n"
     ]
    }
   ],
   "source": [
    "for values in brinquedos.values():\n",
    "    if(\"carro\" in value):\n",
    "        print(f\"Existe pelo menos uma criança com um carro.\")\n",
    "        break"
   ]
  },
  {
   "cell_type": "markdown",
   "metadata": {},
   "source": [
    "5.5 crie um código que indique os nomes das crianças que têm um carro.\n",
    "\n",
    "Resultado esperado: `Manuel Maria Luis `"
   ]
  },
  {
   "cell_type": "code",
   "execution_count": 221,
   "metadata": {},
   "outputs": [
    {
     "name": "stdout",
     "output_type": "stream",
     "text": [
      "Manuel Luis "
     ]
    }
   ],
   "source": [
    "for key in brinquedos.keys():\n",
    "    if(\"carro\" in brinquedos[key]):\n",
    "        print(key, end=\" \")"
   ]
  },
  {
   "cell_type": "markdown",
   "metadata": {},
   "source": [
    "5.6 crie um código que indique quantas crianças têm uma boneca\n",
    "\n",
    "Resultado esperado: `Existem 2 crianças com uma boneca`"
   ]
  },
  {
   "cell_type": "code",
   "execution_count": 222,
   "metadata": {},
   "outputs": [
    {
     "name": "stdout",
     "output_type": "stream",
     "text": [
      "Existem 2 crianças com uma boneca\n"
     ]
    }
   ],
   "source": [
    "resultBon = 0;\n",
    "for key in brinquedos.keys():\n",
    "    if(\"boneca\" in brinquedos[key]):\n",
    "        resultBon += 1\n",
    "print(f\"Existem {resultBon} crianças com uma boneca\")"
   ]
  },
  {
   "cell_type": "markdown",
   "metadata": {},
   "source": [
    "5.7 crie uma instrução para adicionar um pião à lista de brinquedos do Manuel"
   ]
  },
  {
   "cell_type": "code",
   "execution_count": 232,
   "metadata": {},
   "outputs": [
    {
     "name": "stdout",
     "output_type": "stream",
     "text": [
      "['carro', 'bola', 'pião']\n"
     ]
    }
   ],
   "source": [
    "brinquedos[\"Manuel\"].append(\"pião\")\n",
    "print(brinquedos[\"Manuel\"])"
   ]
  },
  {
   "cell_type": "markdown",
   "metadata": {},
   "source": [
    "5.8 remova a bola da lista de brinquedos do Manuel"
   ]
  },
  {
   "cell_type": "code",
   "execution_count": 235,
   "metadata": {},
   "outputs": [
    {
     "data": {
      "text/plain": [
       "['carro', 'pião']"
      ]
     },
     "execution_count": 235,
     "metadata": {},
     "output_type": "execute_result"
    }
   ],
   "source": [
    "brinquedos[\"Manuel\"].remove(\"bola\")\n",
    "brinquedos[\"Manuel\"]"
   ]
  }
 ],
 "metadata": {
  "kernelspec": {
   "display_name": "Python 3",
   "language": "python",
   "name": "python3"
  },
  "language_info": {
   "codemirror_mode": {
    "name": "ipython",
    "version": 3
   },
   "file_extension": ".py",
   "mimetype": "text/x-python",
   "name": "python",
   "nbconvert_exporter": "python",
   "pygments_lexer": "ipython3",
   "version": "3.8.8"
  }
 },
 "nbformat": 4,
 "nbformat_minor": 4
}
