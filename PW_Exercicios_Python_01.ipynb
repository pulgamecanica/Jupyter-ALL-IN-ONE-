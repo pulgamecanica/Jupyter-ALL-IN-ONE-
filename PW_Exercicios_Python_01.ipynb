{
 "cells": [
  {
   "cell_type": "markdown",
   "metadata": {},
   "source": [
    "# Ficha 01 de Exercícios de Python\n",
    "\n",
    "A ficha deve ser resolvida e [submetida](https://secure.grupolusofona.pt/ulht/moodle/mod/assign/view.php?id=389735) antes da sua aula prática da semana de 19.4 a 23.4.\n",
    "\n",
    "Trabalhando com Jupyter Notebook: \n",
    "1. Descarregue o [Python](https://www.python.org/downloads/) e instale o Python versão 3 \n",
    "2. Abra uma janela de comando (cmd) e execute o comando para instalar o Jupyter: `python -m pip install jupyter` \n",
    "3. escolha uma pasta onde queira trabalhar, e grave nessa pasta este ficheiro PW_Exercicios_Python_01.ipynb\n",
    "4. na linha de comando, vá até a essa pasta e execute o comando: `jupyter notebook`\n",
    "5. O browser será aberto automáticamente, aparecendo informação da pasta e a ficha de exercícios, que clicando será aberta\n",
    "6. Edite as respostas diretamente nas células vazias. Para executar a célula, prima `Shift + Enter`\n",
    "\n",
    "Se tiver dúvidas, consulte os [slides da aula](https://secure.grupolusofona.pt/ulht/moodle/pluginfile.php/800079/course/section/398731/PW_Python_01.pptx) que têm toda a matéria necessária para a resolução desta ficha."
   ]
  },
  {
   "cell_type": "markdown",
   "metadata": {},
   "source": [
    "# 1. Métodos das Strings\n",
    "\n",
    "Em Python, cada tipo de variável é uma classe tem um conjunto de métodos (funções) disponiveis. Pode listar os métodos existentes do tipo string, através da instrução `dir(str)`. A função `help()`  mostra, para uma determinado tipo, a descrição de todos os métodos disponíveis. Execute help(str) para ver a descrição de todos os métodos. Alternativamente, para um método específico, pode inquirir sobre o seu funcionamento, por exemplo, help(str.capitalise). "
   ]
  },
  {
   "cell_type": "markdown",
   "metadata": {},
   "source": [
    "Para os métodos em baixo indicados, veja a descrição com a função help e escreva um exemplo simples de utilização"
   ]
  },
  {
   "cell_type": "code",
   "execution_count": null,
   "metadata": {},
   "outputs": [],
   "source": [
    "help(str.title)"
   ]
  },
  {
   "cell_type": "code",
   "execution_count": 2,
   "metadata": {},
   "outputs": [
    {
     "name": "stdout",
     "output_type": "stream",
     "text": [
      "Exercícios Introdutorios Ao Python\n"
     ]
    }
   ],
   "source": [
    "# title\n",
    "s = \"exercícios introdutorios ao python\"\n",
    "titulo = s.title()\n",
    "print(titulo)"
   ]
  },
  {
   "cell_type": "code",
   "execution_count": 1,
   "metadata": {},
   "outputs": [],
   "source": [
    "#capitalize\n",
    "\"hello world is cool.\".capitalize()\n"
   ]
  },
  {
   "cell_type": "code",
   "execution_count": 9,
   "metadata": {},
   "outputs": [
    {
     "data": {
      "text/plain": [
       "['hell', ' W', 'rld']"
      ]
     },
     "execution_count": 9,
     "metadata": {},
     "output_type": "execute_result"
    }
   ],
   "source": [
    "#split\n",
    "listOfBinary = \"0001.0010.0101.1101.0011\".split('.')\n",
    "listOfBinary\n",
    "\"hello World\".split(\"o\")"
   ]
  },
  {
   "cell_type": "code",
   "execution_count": 10,
   "metadata": {
    "scrolled": true
   },
   "outputs": [
    {
     "data": {
      "text/plain": [
       "'0001***0010***0101***1101***0011'"
      ]
     },
     "execution_count": 10,
     "metadata": {},
     "output_type": "execute_result"
    }
   ],
   "source": [
    "#join\n",
    "listOfBinary = \"0001.0010.0101.1101.0011\".split('.')\n",
    "'***'.join(listOfBinary)"
   ]
  },
  {
   "cell_type": "code",
   "execution_count": 7,
   "metadata": {},
   "outputs": [
    {
     "data": {
      "text/plain": [
       "'-br-c-d-br-'"
      ]
     },
     "execution_count": 7,
     "metadata": {},
     "output_type": "execute_result"
    }
   ],
   "source": [
    "#replace\n",
    "palavra = \"abracadabra\"\n",
    "palavra.replace(\"a\", \"-\")"
   ]
  },
  {
   "cell_type": "code",
   "execution_count": 5,
   "metadata": {},
   "outputs": [
    {
     "data": {
      "text/plain": [
       "3"
      ]
     },
     "execution_count": 5,
     "metadata": {},
     "output_type": "execute_result"
    }
   ],
   "source": [
    "#count\n",
    "\"HelloWorld\".count(\"l\")"
   ]
  },
  {
   "cell_type": "code",
   "execution_count": 6,
   "metadata": {},
   "outputs": [
    {
     "name": "stdout",
     "output_type": "stream",
     "text": [
      "6\n",
      "-1\n"
     ]
    }
   ],
   "source": [
    "#find\n",
    "word = \"Popocatepetl\"\n",
    "print(word.find(\"tepe\"))\n",
    "print(word.find(\"z\"))"
   ]
  },
  {
   "cell_type": "code",
   "execution_count": 11,
   "metadata": {},
   "outputs": [
    {
     "data": {
      "text/plain": [
       "5"
      ]
     },
     "execution_count": 11,
     "metadata": {},
     "output_type": "execute_result"
    }
   ],
   "source": [
    "#index \n",
    "word.index(\"a\")"
   ]
  },
  {
   "cell_type": "code",
   "execution_count": 12,
   "metadata": {},
   "outputs": [
    {
     "data": {
      "text/plain": [
       "True"
      ]
     },
     "execution_count": 12,
     "metadata": {},
     "output_type": "execute_result"
    }
   ],
   "source": [
    "#isalnum\n",
    "\"12344321\".isalnum() and \"a1b2c3\".isalnum()"
   ]
  },
  {
   "cell_type": "code",
   "execution_count": 13,
   "metadata": {},
   "outputs": [
    {
     "data": {
      "text/plain": [
       "True"
      ]
     },
     "execution_count": 13,
     "metadata": {},
     "output_type": "execute_result"
    }
   ],
   "source": [
    "#isalpha\n",
    "\"Hello\".isalpha()"
   ]
  },
  {
   "cell_type": "code",
   "execution_count": 14,
   "metadata": {},
   "outputs": [
    {
     "data": {
      "text/plain": [
       "True"
      ]
     },
     "execution_count": 14,
     "metadata": {},
     "output_type": "execute_result"
    }
   ],
   "source": [
    "#isdigit\n",
    "\"99191\".isdigit()"
   ]
  },
  {
   "cell_type": "code",
   "execution_count": 15,
   "metadata": {},
   "outputs": [
    {
     "data": {
      "text/plain": [
       "26"
      ]
     },
     "execution_count": 15,
     "metadata": {},
     "output_type": "execute_result"
    }
   ],
   "source": [
    "# função len()\n",
    "len(\"This sentence has 26 words\")"
   ]
  },
  {
   "cell_type": "markdown",
   "metadata": {},
   "source": [
    "# 2. Onomatopeia\n",
    "\n",
    "Defina, usando operadores sobre strings de concatenação `+` e repetição `*`, uma string com a seguinte onomatopeia: \n",
    "\n",
    "```\n",
    "buuuuuuummmmm\n",
    "```"
   ]
  },
  {
   "cell_type": "code",
   "execution_count": 16,
   "metadata": {},
   "outputs": [
    {
     "data": {
      "text/plain": [
       "'buuuuuuummmmm'"
      ]
     },
     "execution_count": 16,
     "metadata": {},
     "output_type": "execute_result"
    }
   ],
   "source": [
    "word = \"b u m\"\n",
    "splitWord = word.split(\" \")\n",
    "newWord = splitWord[0] + splitWord[1]*7 + splitWord[2]*5\n",
    "newWord"
   ]
  },
  {
   "cell_type": "markdown",
   "metadata": {},
   "source": [
    "# 3. Constrói email de nome\n",
    "\n",
    "Escreva um programa que pede ao utilizador para inserir um nome completo, com vários apelidos,  e construa um email. Exemplo:\n",
    "\n",
    "```\n",
    "Insira um nome completo: Manuel Sousa Silva\n",
    "Email: manuel.sousa.silva@ulusofona.pt\n",
    "```\n",
    "\n",
    "Para tal recorra aos métodos das strings tais como split ou replace, lower e concatenação."
   ]
  },
  {
   "cell_type": "code",
   "execution_count": 15,
   "metadata": {
    "scrolled": false
   },
   "outputs": [
    {
     "name": "stdout",
     "output_type": "stream",
     "text": [
      "Insira um nome completo: Andre Rosado Hernandez\n",
      "Email: andre.rosado.hernandez@ulusofona.pt\n"
     ]
    }
   ],
   "source": [
    "name = input(\"Insira um nome completo: \")\n",
    "print(\"Email: \" + name.lower().replace(\" \", \".\")+\"@ulusofona.pt\")\n",
    "\n"
   ]
  },
  {
   "cell_type": "markdown",
   "metadata": {},
   "source": [
    "# 4. Pede código de 4 digitos insistentemente até conseguir\n",
    "\n",
    "Escreva um programa que pede ao utilizador para inserir um código numérico de 4 dígitos. Enquanto não o fizer, volte a pedir:\n",
    "\n",
    "```\n",
    "Insira um codigo numerico de 4 digitos: 12345\n",
    "Insira um codigo numerico de 4 digitos: 1a2c\n",
    "Insira um codigo numerico de 4 digitos: 1234\n",
    "Obrigado\n",
    "```\n",
    "\n",
    "Para tal recorra por exemplo ao método das strings isdigit e à função len."
   ]
  },
  {
   "cell_type": "code",
   "execution_count": 14,
   "metadata": {
    "scrolled": false
   },
   "outputs": [
    {
     "name": "stdout",
     "output_type": "stream",
     "text": [
      "Please enter a 4 digit number: 12345\n",
      "Please enter a 4 digit number: 1A2c\n",
      "Please enter a 4 digit number: 1234\n",
      "Thanks! :)\n"
     ]
    }
   ],
   "source": [
    "while(True):\n",
    "    number = input(\"Please enter a 4 digit number: \")\n",
    "    if(len(number) == 4 and number.isdigit()):\n",
    "        print(\"Thanks! :)\")\n",
    "        break;"
   ]
  },
  {
   "cell_type": "markdown",
   "metadata": {},
   "source": [
    "# 5. pergunte uma adivinha \n",
    "* Pergunte uma adivinha: \"Qual é o animal que anda com uma pata?\"\n",
    "* enquanto não adivinhar, volte a perguntar.\n",
    "* se acertar dá os parabéns e termina.\n",
    "* se escrever \"desisto\" o programa termina e imprime uma mensagem, dizendo a resposta (é o 🦆). Use outros emijis se quiser http://getemoji.com/, fazendo copy-paste diretamente.\n",
    "\n",
    "Nota: dentro de \" \" podemos escrever ' '."
   ]
  },
  {
   "cell_type": "code",
   "execution_count": 109,
   "metadata": {},
   "outputs": [
    {
     "name": "stdout",
     "output_type": "stream",
     "text": [
      "Qual é o animal que anda com uma pata? Pato!\n",
      "Boa!!! :)\n"
     ]
    }
   ],
   "source": [
    "while(True):\n",
    "    answer = input(\"Qual é o animal que anda com uma pata? \").strip()\n",
    "    if answer.lower().find(\"pato\") >= 0:\n",
    "        print(\"Boa!!! :)\")\n",
    "        break\n",
    "    elif answer == \"desisto\":\n",
    "        print(\"É o 🦆\")\n",
    "        break"
   ]
  },
  {
   "cell_type": "markdown",
   "metadata": {},
   "source": [
    "# 6. Tabuada\n",
    "\n",
    "Peça ao utilizador um inteiro entre 1 e 10. Imprima a tabuada desse número devidamente alinhada.\n",
    "\n",
    "Exemplo de utilização:\n",
    "\n",
    "```\n",
    "Insira um inteiro entre 1 e 10: 11\n",
    "Insira um inteiro entre 1 e 10: ola\n",
    "Insira um inteiro entre 1 e 10: 2\n",
    "2 x  1 =   2\n",
    "2 x  2 =   4\n",
    "2 x  3 =   6\n",
    "2 x  4 =   8\n",
    "2 x  5 =  10\n",
    "2 x  6 =  12\n",
    "2 x  7 =  14\n",
    "2 x  8 =  16\n",
    "2 x  9 =  18\n",
    "2 x 10 =  20\n",
    "```"
   ]
  },
  {
   "cell_type": "code",
   "execution_count": 13,
   "metadata": {},
   "outputs": [
    {
     "name": "stdout",
     "output_type": "stream",
     "text": [
      "Insira um inteiro entre 1 e 10: 11\n",
      "Insira um inteiro entre 1 e 10: ola\n",
      "Insira um inteiro entre 1 e 10: 2\n",
      "2 x 1 =  2\n",
      "2 x 2 =  4\n",
      "2 x 3 =  6\n",
      "2 x 4 =  8\n",
      "2 x 5 =  10\n",
      "2 x 6 =  12\n",
      "2 x 7 =  14\n",
      "2 x 8 =  16\n",
      "2 x 9 =  18\n",
      "2 x 10 =  20\n"
     ]
    }
   ],
   "source": [
    "while(True):\n",
    "    number = input(\"Insira um inteiro entre 1 e 10: \").strip()\n",
    "    if not number.isdigit():\n",
    "        continue\n",
    "    number = int(number)        \n",
    "    if number < 1 or number > 10:\n",
    "        continue\n",
    "    else:\n",
    "        for i in range(1, 11):\n",
    "            print(f\"{number} x {i} = \", i*number)\n",
    "        break"
   ]
  },
  {
   "cell_type": "markdown",
   "metadata": {},
   "source": [
    "# 7. Multibanco\n",
    "\n",
    "Elabore um programa em Python que simula um multibanco:\n",
    "* O programa tem um código de acesso 1234, armazenado numa variável.\n",
    "* O utilizador tem 3 tentativas para acertar.\n",
    "* Caso não acerte, deve dizer “código não aceite”.\n",
    "* Caso acerte numa das tentativas, deve dizer “código aceite” e o programa deverá terminar.\n",
    "* Caso esgote as 3 tentativas, deve dizer “número de tentativas expiradas”.\n",
    "\n",
    "Utilize um ciclo for empregando break else e continue se conseguir."
   ]
  },
  {
   "cell_type": "code",
   "execution_count": 11,
   "metadata": {},
   "outputs": [
    {
     "name": "stdout",
     "output_type": "stream",
     "text": [
      "Enter your code: 123\n",
      "Wrong Code! You have 2 attempts.\n",
      "Enter your code: 12345\n",
      "Wrong Code! You have 1 attempts.\n",
      "Enter your code: 1234\n",
      "Code Accepted!\n"
     ]
    }
   ],
   "source": [
    "wrongCounter = 0\n",
    "code = 1234\n",
    "while(wrongCounter < 3):\n",
    "    number = int(input(\"Enter your code: \").strip())\n",
    "    if number != code:\n",
    "        wrongCounter+=1\n",
    "        print(f\"Wrong Code! You have {3-wrongCounter} attempts.\")\n",
    "    else:\n",
    "        print(\"Code Accepted!\")\n",
    "        break\n",
    "else:\n",
    "    print(\"Number of attempts exceeded!\")"
   ]
  },
  {
   "cell_type": "markdown",
   "metadata": {},
   "source": [
    "# 8. Notas\n",
    "\n",
    "Escreva um programa que pede ao utilizador para inserir notas de testes, entre 0 e 20:\n",
    "* A quantidade de números é desconhecida à partida. \n",
    "* A leitura termina quando for introduzido o valor -1. \n",
    "* Se a nota inserida for inválida (fora do intervalo, ou não seja numérica), imprima um aviso. Recorra a try / except para se proteger de valores não numéricos.\n",
    "* Utilize onde possível as instruções break e continue. \n",
    "\n",
    "Imprima no ecrã:\n",
    "- A quantidade de notas válidas inseridas\n",
    "- A média das notas inseridas\n",
    "- A melhor nota\n",
    "\n",
    "\n",
    "Exemplo de utilização:\n",
    "```\n",
    "Insira uma nota entre 0 e 20 (-1 para terminar): 12\n",
    "Insira uma nota entre 0 e 20 (-1 para terminar): 16\n",
    "Insira uma nota entre 0 e 20 (-1 para terminar): ola\n",
    "Nota inválida. Não será tomada em consideração\n",
    "Insira uma nota entre 0 e 20 (-1 para terminar): 28\n",
    "Nota inválida. Não será tomada em consideração\n",
    "Insira uma nota entre 0 e 20 (-1 para terminar): 18\n",
    "Insira uma nota entre 0 e 20 (-1 para terminar): 15\n",
    "Insira uma nota entre 0 e 20 (-1 para terminar): -1\n",
    "\n",
    "Quantidade: 4\n",
    "Media: 15.2\n",
    "Maximo: 18\n",
    "``` "
   ]
  },
  {
   "cell_type": "code",
   "execution_count": 6,
   "metadata": {},
   "outputs": [
    {
     "name": "stdout",
     "output_type": "stream",
     "text": [
      "Insira uma nota entre 0 e 20 (-1 para terminar): 12\n",
      "Nota inserida.\n",
      "Insira uma nota entre 0 e 20 (-1 para terminar): 16\n",
      "Nota inserida.\n",
      "Insira uma nota entre 0 e 20 (-1 para terminar): olA\n",
      "nota é inválida! Deverá intoducir um número.\n",
      "Insira uma nota entre 0 e 20 (-1 para terminar): 28\n",
      "nota é inválida!\n",
      "Insira uma nota entre 0 e 20 (-1 para terminar): 18\n",
      "Nota inserida.\n",
      "Insira uma nota entre 0 e 20 (-1 para terminar): 15\n",
      "Nota inserida.\n",
      "Insira uma nota entre 0 e 20 (-1 para terminar): -1\n",
      "Quantidade:  4\n",
      "Media:  15.2\n",
      "Maximo:  18\n"
     ]
    }
   ],
   "source": [
    "resultados = []\n",
    "while(True):\n",
    "    inputNumber = input(\"Insira uma nota entre 0 e 20 (-1 para terminar): \").strip()\n",
    "    try:\n",
    "        number = int(inputNumber)\n",
    "    except ValueError:\n",
    "        print(\"nota é inválida! Deverá intoducir um número.\")\n",
    "        continue\n",
    "    if(number == -1):\n",
    "        break\n",
    "    elif number >= 0 and number <= 20:\n",
    "        resultados.append(number)\n",
    "        print(\"Nota inserida.\")\n",
    "    else:\n",
    "        print(\"nota é inválida!\")\n",
    "print(\"Quantidade: \", len(resultados))\n",
    "print(\"Media: \", f\"{(sum(resultados) / len(resultados)):.1f}\")\n",
    "print(\"Maximo: \", max(resultados))\n"
   ]
  },
  {
   "cell_type": "markdown",
   "metadata": {},
   "source": [
    "# 9. Frase\n",
    "\n",
    "Peça ao utilizador para inserir uma frase e indique quantas vogais esta tem (tanto maiúsculas como minúsculas). \n",
    "\n",
    "Sugestões: \n",
    "* Lembre-se que pode iterar pelos carateres de uma string com: `for letra in frase:`. \n",
    "* Utilizar o operador `in`.\n",
    "* Numa string, pode imprimir aspas se definir a frase com plicas: `print(f'A frase \"{frase}\" tem {soma} carateres')`\n",
    "\n",
    "Exemplo de funcionamento:\n",
    "\n",
    "```\n",
    "Insira uma frase: Rega as tuas plantas. Ama as tuas rosas\n",
    "A frase \"Rega as tuas plantas. Ama as tuas rosas\" tem 14 vogais\n",
    "```"
   ]
  },
  {
   "cell_type": "code",
   "execution_count": 17,
   "metadata": {
    "scrolled": true
   },
   "outputs": [
    {
     "name": "stdout",
     "output_type": "stream",
     "text": [
      "Insira uma frase: Rega as tuas plantas. Ama as tuas rosas\n",
      "A frase \"Rega as tuas plantas. Ama as tuas rosas\" tem 14 vogais\n"
     ]
    }
   ],
   "source": [
    "counter = 0\n",
    "vogais = ['a', 'e', 'i', 'o', 'u']\n",
    "frase = input(\"Insira uma frase: \")\n",
    "fraseMod = frase.strip().lower()\n",
    "for letra in fraseMod:\n",
    "    for vogal in vogais:\n",
    "        if letra == vogal:\n",
    "            counter+=1\n",
    "print(f'A frase \"{frase}\" tem {counter} vogais')\n",
    "            \n",
    "    "
   ]
  },
  {
   "cell_type": "markdown",
   "metadata": {},
   "source": [
    "# 10. Billboard"
   ]
  },
  {
   "cell_type": "markdown",
   "metadata": {},
   "source": [
    "Crie um programa que recebe uma string `frase` e um dígito `n`. \n",
    "\n",
    "\n",
    "Deverá aplicar uma deslocação de n caracteres para a direita (n>0) ou para a esquerda (n<0) e em seguida apresentar o resultado na consola. Uma deslocação de n caracteres consiste em mover os caracteres todos de uma string para as a posições contíguas e em que os últimos caracteres da string passam para o início.\n",
    "\n",
    "Sugestões:\n",
    "* utilize slices e concatenação de strings\n",
    "* tome atenção ao caso de o número ser maior que o comprimento da string. Nesse caso deverá fazer usar como deslocação n % len(frase), pois a rotação de len(frase) carateres é a própria frase.\n",
    "* Comece por implementar o deslocamento de um caracter para a direita. Poderá depois implementar o deslocamento de n caracteres para a direira repetindo n vezes a deslocação de 1 caracter. Repita o processo para os deslocamentos para a esquerda.\n",
    "\n",
    "\n",
    "Exemplo:\n",
    "\n",
    "```\n",
    "Introduza uma sequencia de carateres: abcdefghi\n",
    "Introduza um inteiro: 3\n",
    "Resultado de deslocação de 3 carateres: ghiabcdef\n",
    "```\n",
    "\n",
    "Outro exemplo:\n",
    "\n",
    "```\n",
    "Introduza uma sequencia de carateres: abcdefghi\n",
    "Introduza um inteiro: -2\n",
    "Resultado de deslocação de 3 carateres: defghiabc\n",
    "```\n"
   ]
  },
  {
   "cell_type": "code",
   "execution_count": 19,
   "metadata": {},
   "outputs": [
    {
     "name": "stdout",
     "output_type": "stream",
     "text": [
      "Introduza uma sequencia de carateres:abcdefghi\n",
      "Introduza um inteiro:-2\n",
      "Resultado de deslocação de 7 carateres:  cdefghiab\n"
     ]
    }
   ],
   "source": [
    "sequence = input(\"Introduza uma sequencia de carateres:\")\n",
    "number = int(input(\"Introduza um inteiro:\"))%len(sequence)\n",
    "sectionTwo = sequence[len(sequence)-number:] \n",
    "sectionOne = sequence[0:len(sequence)-number] \n",
    "finalSequence = sectionTwo + sectionOne\n",
    "print(f\"Resultado de deslocação de {number} carateres: \", finalSequence)"
   ]
  },
  {
   "cell_type": "code",
   "execution_count": null,
   "metadata": {},
   "outputs": [],
   "source": []
  }
 ],
 "metadata": {
  "kernelspec": {
   "display_name": "Python 3",
   "language": "python",
   "name": "python3"
  },
  "language_info": {
   "codemirror_mode": {
    "name": "ipython",
    "version": 3
   },
   "file_extension": ".py",
   "mimetype": "text/x-python",
   "name": "python",
   "nbconvert_exporter": "python",
   "pygments_lexer": "ipython3",
   "version": "3.8.8"
  }
 },
 "nbformat": 4,
 "nbformat_minor": 4
}
